{
  "nbformat": 4,
  "nbformat_minor": 0,
  "metadata": {
    "colab": {
      "name": "day1.ipynb",
      "version": "0.3.2",
      "provenance": [],
      "collapsed_sections": []
    },
    "kernelspec": {
      "name": "python3",
      "display_name": "Python 3"
    }
  },
  "cells": [
    {
      "metadata": {
        "id": "TZ5O20obUjg0",
        "colab_type": "text"
      },
      "cell_type": "markdown",
      "source": [
        "## ⛄ [Day 11](https://adventofcode.com/2018/day/11)"
      ]
    },
    {
      "metadata": {
        "id": "Mk1gkvnlUhYu",
        "colab_type": "code",
        "colab": {}
      },
      "cell_type": "code",
      "source": [
        "import numpy as np\n",
        "from scipy.signal import convolve2d, fftconvolve\n",
        "\n",
        "def power_level(grid_width, grid_height, serial_number):\n",
        "  \"\"\"Get the power level for each grid cell\"\"\"\n",
        "  rack_id = np.arange(grid_width)[:, None] + 1 + 10\n",
        "  power = rack_id * (np.arange(grid_height)[None, :] + 1)\n",
        "  power += serial_number\n",
        "  power *= rack_id\n",
        "  power = np.mod(np.floor_divide(power, 100), 10)\n",
        "  power -= 5\n",
        "  return power\n",
        "\n",
        "def find_3x3(serial_number, length=300):\n",
        "  \"\"\"Find best 3x3 patch using a 2D convolution with kernel size (3, 3)\"\"\"\n",
        "  power = power_level(length, length, serial_number) \n",
        "  kernel = np.ones((3, 3))\n",
        "  grid_power = convolve2d(power, kernel, mode='valid')\n",
        "  index = np.argmax(grid_power)\n",
        "  index = np.unravel_index(index, grid_power.shape)\n",
        "  return (index[0] + 1, index[1] + 1), int(grid_power[index[0], index[1]])\n",
        "\n",
        "def find_any(serial_number, length=300):\n",
        "  \"\"\"Find best overall patch. Use 2D convolution for faster results\"\"\"\n",
        "  power = power_level(length, length, serial_number) \n",
        "  max_power = 0.\n",
        "  max_index = 0.\n",
        "  for kernel_size in range(1, length + 1):\n",
        "    kernel = np.ones((kernel_size, kernel_size))\n",
        "    grid_power = fftconvolve(power, kernel, mode='valid')\n",
        "    index = np.argmax(grid_power)\n",
        "    index = np.unravel_index(index, grid_power.shape)\n",
        "    p = int(np.round(grid_power[index[0], index[1]]))  # not necessary, but I like int values\n",
        "    if p > max_power:\n",
        "      max_power = p\n",
        "      max_index = (index[0] + 1, index[1] + 1, kernel_size)\n",
        "  return max_index, max_power"
      ],
      "execution_count": 0,
      "outputs": []
    },
    {
      "metadata": {
        "id": "axCn6FNaUql6",
        "colab_type": "code",
        "outputId": "2f48df96-be47-4386-dd62-4cfea03e6c9d",
        "colab": {
          "base_uri": "https://localhost:8080/",
          "height": 89
        }
      },
      "cell_type": "code",
      "source": [
        "%%time\n",
        "print('Best 3x3 patch', find_3x3(6878))\n",
        "print('Best patch', find_any(6878))"
      ],
      "execution_count": 4,
      "outputs": [
        {
          "output_type": "stream",
          "text": [
            "Best 3x3 patch ((20, 34), 30)\n",
            "Best patch ((90, 57, 15), 85)\n",
            "CPU times: user 5.71 s, sys: 148 ms, total: 5.86 s\n",
            "Wall time: 5.86 s\n"
          ],
          "name": "stdout"
        }
      ]
    }
  ]
}