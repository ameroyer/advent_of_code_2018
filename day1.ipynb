{
 "cells": [
  {
   "cell_type": "markdown",
   "metadata": {
    "colab_type": "text",
    "id": "TZ5O20obUjg0"
   },
   "source": [
    "## 🎅 [Day 1](https://adventofcode.com/2018/day/1)\n"
   ]
  },
  {
   "cell_type": "code",
   "execution_count": 0,
   "metadata": {
    "colab": {},
    "colab_type": "code",
    "id": "Mk1gkvnlUhYu"
   },
   "outputs": [],
   "source": [
    "import collections\n",
    "\n",
    "def get_frequency(inputs):\n",
    "  \"\"\"Get Total Frequency\"\"\"\n",
    "  return sum(inputs)\n",
    "\n",
    "def get_repeating_frequency(inputs):\n",
    "  \"\"\"Get first repeating Frequency\"\"\"\n",
    "  seen = collections.defaultdict(lambda: False)\n",
    "  seen[0] = True\n",
    "  s = 0\n",
    "  while 1:\n",
    "    for i in inputs:\n",
    "      s += i\n",
    "      if seen[s]:\n",
    "        return s\n",
    "      else:\n",
    "        seen[s] = True"
   ]
  },
  {
   "cell_type": "code",
   "execution_count": 2,
   "metadata": {
    "colab": {
     "base_uri": "https://localhost:8080/",
     "height": 51
    },
    "colab_type": "code",
    "id": "axCn6FNaUql6",
    "outputId": "c4e3c251-7135-4134-af86-b526ab480900"
   },
   "outputs": [
    {
     "name": "stdout",
     "output_type": "stream",
     "text": [
      "Frequency: 592\n",
      "First repeat in frequency: 241\n"
     ]
    }
   ],
   "source": [
    "with open(\"day1.txt\", 'r') as f:\n",
    "  inputs = list(map(int, f.read().splitlines()))\n",
    "  \n",
    "print('Frequency:', get_frequency(inputs))\n",
    "print('First repeat in frequency:', get_repeating_frequency(inputs))"
   ]
  }
 ],
 "metadata": {
  "colab": {
   "collapsed_sections": [],
   "name": "day1.ipynb",
   "provenance": [],
   "version": "0.3.2"
  },
  "kernelspec": {
   "display_name": "Python 3",
   "language": "python",
   "name": "python3"
  },
  "language_info": {
   "codemirror_mode": {
    "name": "ipython",
    "version": 3
   },
   "file_extension": ".py",
   "mimetype": "text/x-python",
   "name": "python",
   "nbconvert_exporter": "python",
   "pygments_lexer": "ipython3",
   "version": "3.5.2"
  }
 },
 "nbformat": 4,
 "nbformat_minor": 1
}
