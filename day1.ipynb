{
  "nbformat": 4,
  "nbformat_minor": 0,
  "metadata": {
    "colab": {
      "name": "day1.ipynb",
      "version": "0.3.2",
      "provenance": [],
      "collapsed_sections": []
    },
    "kernelspec": {
      "name": "python3",
      "display_name": "Python 3"
    }
  },
  "cells": [
    {
      "metadata": {
        "id": "TZ5O20obUjg0",
        "colab_type": "text"
      },
      "cell_type": "markdown",
      "source": [
        "## 🎅 [Day 1](https://adventofcode.com/2018/day/1)\n"
      ]
    },
    {
      "metadata": {
        "id": "Mk1gkvnlUhYu",
        "colab_type": "code",
        "colab": {}
      },
      "cell_type": "code",
      "source": [
        "import collections\n",
        "\n",
        "def get_frequency(inputs):\n",
        "  return sum(inputs)\n",
        "\n",
        "def get_repeating_frequency(inputs):\n",
        "  seen = collections.defaultdict(lambda: False)\n",
        "  seen[0] = True\n",
        "  s = 0\n",
        "  while 1:\n",
        "    for i in inputs:\n",
        "      s += i\n",
        "      if seen[s]:\n",
        "        return s\n",
        "      else:\n",
        "        seen[s] = True"
      ],
      "execution_count": 0,
      "outputs": []
    },
    {
      "metadata": {
        "id": "axCn6FNaUql6",
        "colab_type": "code",
        "colab": {
          "base_uri": "https://localhost:8080/",
          "height": 51
        },
        "outputId": "c4e3c251-7135-4134-af86-b526ab480900"
      },
      "cell_type": "code",
      "source": [
        "with open(\"day1.txt\", 'r') as f:\n",
        "  inputs = list(map(int, f.read().splitlines()))\n",
        "  \n",
        "print('Frequency:', get_frequency(inputs))\n",
        "print('First repeat in frequency:', get_repeating_frequency(inputs))"
      ],
      "execution_count": 2,
      "outputs": [
        {
          "output_type": "stream",
          "text": [
            "Frequency: 592\n",
            "First repeat in frequency: 241\n"
          ],
          "name": "stdout"
        }
      ]
    }
  ]
}