{
  "nbformat": 4,
  "nbformat_minor": 0,
  "metadata": {
    "colab": {
      "name": "day1.ipynb",
      "version": "0.3.2",
      "provenance": [],
      "collapsed_sections": []
    },
    "kernelspec": {
      "name": "python3",
      "display_name": "Python 3"
    }
  },
  "cells": [
    {
      "metadata": {
        "id": "TZ5O20obUjg0",
        "colab_type": "text"
      },
      "cell_type": "markdown",
      "source": [
        "## 🍰 [Day 5](https://adventofcode.com/2018/day/5)"
      ]
    },
    {
      "metadata": {
        "id": "Mk1gkvnlUhYu",
        "colab_type": "code",
        "colab": {}
      },
      "cell_type": "code",
      "source": [
        "import re\n",
        "\n",
        "def regexp():\n",
        "  return '|'.join('{s}{S}|{S}{s}'.format(s=letter, S=letter.upper()) for letter in list(map(chr, range(97, 123))))\n",
        "\n",
        "def react_polymer(s):\n",
        "  r = regexp()\n",
        "  while 1:\n",
        "    s, n = re.subn(r, '', s)\n",
        "    if n == 0:\n",
        "      break\n",
        "  return len(s), s\n",
        "\n",
        "def shortest_polymer(s):\n",
        "  min_length, s = react_polymer(s)\n",
        "  best_char = None\n",
        "  for letter in list(map(chr, range(97, 123))):\n",
        "    r = '%s|%s' % (letter, letter.upper())\n",
        "    subs = re.sub(r, '', s)\n",
        "    n, _ = react_polymer(subs)\n",
        "    if n < min_length:\n",
        "      min_length = n\n",
        "      best_char = letter\n",
        "  return min_length, best_char"
      ],
      "execution_count": 0,
      "outputs": []
    },
    {
      "metadata": {
        "id": "axCn6FNaUql6",
        "colab_type": "code",
        "colab": {
          "base_uri": "https://localhost:8080/",
          "height": 85
        },
        "outputId": "33596a83-18b8-44f8-c168-6543a05066d1"
      },
      "cell_type": "code",
      "source": [
        "%%time\n",
        "with open(\"day5.txt\", 'r') as f:\n",
        "  inputs = f.read()[:-1]\n",
        "\n",
        "print('Final Polymer Length:', react_polymer(inputs)[0])\n",
        "print('Shortest Polymer Length:', shortest_polymer(inputs))"
      ],
      "execution_count": 2,
      "outputs": [
        {
          "output_type": "stream",
          "text": [
            "Final Polymer Length: 11636\n",
            "Shortest Polymer Length: (5302, 'k')\n",
            "CPU times: user 6.22 s, sys: 21.8 ms, total: 6.24 s\n",
            "Wall time: 8.1 s\n"
          ],
          "name": "stdout"
        }
      ]
    }
  ]
}