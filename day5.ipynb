{
 "cells": [
  {
   "cell_type": "markdown",
   "metadata": {
    "colab_type": "text",
    "id": "TZ5O20obUjg0"
   },
   "source": [
    "## 🍰 [Day 5](https://adventofcode.com/2018/day/5)"
   ]
  },
  {
   "cell_type": "code",
   "execution_count": 0,
   "metadata": {
    "colab": {},
    "colab_type": "code",
    "id": "Mk1gkvnlUhYu"
   },
   "outputs": [],
   "source": [
    "import re\n",
    "\n",
    "def regexp():\n",
    "  \"\"\"Regexp for aA, Aa, bB, Bb....\"\"\"\n",
    "  return '|'.join('{s}{S}|{S}{s}'.format(s=letter, S=letter.upper()) \n",
    "                  for letter in list(map(chr, range(97, 123))))\n",
    "\n",
    "def react_polymer(s):\n",
    "  \"\"\"React the polymer\"\"\"\n",
    "  r = regexp()\n",
    "  while 1:\n",
    "    s, n = re.subn(r, '', s)\n",
    "    if n == 0:\n",
    "      break\n",
    "  return len(s), s\n",
    "\n",
    "def shortest_polymer(s):\n",
    "  \"\"\"Find the shortest attainable polymer\"\"\"\n",
    "  min_length, s = react_polymer(s) # removing one letter won't affect the first maximal reaction\n",
    "  best_char = None\n",
    "  for letter in list(map(chr, range(97, 123))):\n",
    "    r = '%s|%s' % (letter, letter.upper())\n",
    "    subs = re.sub(r, '', s)\n",
    "    n, _ = react_polymer(subs)\n",
    "    if n < min_length:\n",
    "      min_length = n\n",
    "      best_char = letter\n",
    "  return min_length, best_char"
   ]
  },
  {
   "cell_type": "code",
   "execution_count": 2,
   "metadata": {
    "colab": {
     "base_uri": "https://localhost:8080/",
     "height": 85
    },
    "colab_type": "code",
    "id": "axCn6FNaUql6",
    "outputId": "33596a83-18b8-44f8-c168-6543a05066d1"
   },
   "outputs": [
    {
     "name": "stdout",
     "output_type": "stream",
     "text": [
      "Final Polymer Length: 11636\n",
      "Shortest Polymer Length: (5302, 'k')\n",
      "CPU times: user 6.22 s, sys: 21.8 ms, total: 6.24 s\n",
      "Wall time: 8.1 s\n"
     ]
    }
   ],
   "source": [
    "%%time\n",
    "with open(\"day5.txt\", 'r') as f:\n",
    "  inputs = f.read()[:-1]\n",
    "\n",
    "print('Final Polymer Length:', react_polymer(inputs)[0])\n",
    "print('Shortest Polymer Length:', shortest_polymer(inputs))"
   ]
  }
 ],
 "metadata": {
  "colab": {
   "collapsed_sections": [],
   "name": "day1.ipynb",
   "provenance": [],
   "version": "0.3.2"
  },
  "kernelspec": {
   "display_name": "Python 3",
   "language": "python",
   "name": "python3"
  },
  "language_info": {
   "codemirror_mode": {
    "name": "ipython",
    "version": 3
   },
   "file_extension": ".py",
   "mimetype": "text/x-python",
   "name": "python",
   "nbconvert_exporter": "python",
   "pygments_lexer": "ipython3",
   "version": "3.5.2"
  }
 },
 "nbformat": 4,
 "nbformat_minor": 1
}
