{
 "cells": [
  {
   "cell_type": "markdown",
   "metadata": {
    "colab_type": "text",
    "id": "TZ5O20obUjg0"
   },
   "source": [
    "##  ✨ [Day 8](https://adventofcode.com/2018/day/8)"
   ]
  },
  {
   "cell_type": "code",
   "execution_count": 0,
   "metadata": {
    "colab": {},
    "colab_type": "code",
    "id": "Mk1gkvnlUhYu"
   },
   "outputs": [],
   "source": [
    "class Node:\n",
    "  def __init__(self, name):\n",
    "    \"\"\"Init a very simple Tree structure\"\"\"\n",
    "    self.name = name\n",
    "    self.metadata = None\n",
    "    self.children = []      \n",
    "\n",
    "  def sum_metadata(self):\n",
    "    \"\"\"Sum all the metadata of all node\"\"\"\n",
    "    return sum(self.metadata) + sum(c.sum_metadata() for c in self.children)\n",
    "  \n",
    "  def get_value(self, acc={}):\n",
    "    \"\"\"Get the value of the current node as defined in the Part two of the problem\"\"\"\n",
    "    if len(self.children) == 0:\n",
    "      return sum(self.metadata)\n",
    "    else:\n",
    "      s = 0\n",
    "      for m in self.metadata:\n",
    "        if m - 1 < len(self.children):\n",
    "          c = self.children[m - 1]\n",
    "          if not c in acc:\n",
    "            v = c.get_value(acc=acc)\n",
    "            acc[c] = v\n",
    "          s += acc[c]\n",
    "      return s\n",
    "    \n",
    "def parse_tree(inputs, depth=0, start_index=0):\n",
    "  \"\"\"Parse the inputs intro a tree\"\"\"\n",
    "  if len(inputs) >= 3:\n",
    "    num_children = inputs[start_index]\n",
    "    num_metadata = inputs[start_index + 1]\n",
    "    # leaves\n",
    "    if num_children == 0:\n",
    "      node = Node(chr(depth + 65))\n",
    "      node.metadata = inputs[start_index + 2:start_index + 2 + num_metadata]\n",
    "      return node, start_index + 2 + num_metadata, depth + 1\n",
    "    else:\n",
    "      # collect every child\n",
    "      node = Node(chr(depth + 65))\n",
    "      start_index += 2\n",
    "      depth += 1\n",
    "      for _ in range(num_children):\n",
    "        child, start_index, depth = parse_tree(inputs, depth=depth, start_index=start_index)\n",
    "        node.children.append(child)\n",
    "      # metadata\n",
    "      node.metadata = inputs[start_index:start_index + num_metadata]\n",
    "      return node, start_index + num_metadata, depth"
   ]
  },
  {
   "cell_type": "code",
   "execution_count": 2,
   "metadata": {
    "colab": {
     "base_uri": "https://localhost:8080/",
     "height": 51
    },
    "colab_type": "code",
    "id": "axCn6FNaUql6",
    "outputId": "6d1f3936-1ea0-46d0-bcd9-6310ba3550dd"
   },
   "outputs": [
    {
     "name": "stdout",
     "output_type": "stream",
     "text": [
      "Sum of all metadata: 40701\n",
      "Value of the root node: 21399\n"
     ]
    }
   ],
   "source": [
    "with open(\"day8.txt\", 'r') as f:\n",
    "  inputs = list(map(int, f.read().split(' ')))\n",
    "  \n",
    "tree, _, _ = parse_tree(inputs)\n",
    "print(\"Sum of all metadata:\", tree.sum_metadata())\n",
    "print(\"Value of the root node:\", tree.get_value())"
   ]
  },
  {
   "cell_type": "code",
   "execution_count": 6,
   "metadata": {
    "cellView": "form",
    "colab": {
     "base_uri": "https://localhost:8080/",
     "height": 85
    },
    "colab_type": "code",
    "id": "7mNqoUNZkzny",
    "outputId": "4d8ee4be-69dd-48c5-f14e-82e2c3f1f94b"
   },
   "outputs": [
    {
     "name": "stdout",
     "output_type": "stream",
     "text": [
      "2 3 0 3 10 11 12 1 1 0 1 99 2 1 1 2\n",
      "A----------------------------------\n",
      "    B----------- C-----------\n",
      "                     D-----\n"
     ]
    }
   ],
   "source": [
    "#@title Visualize a tree (toy example)\n",
    "import collections\n",
    "\n",
    "def get_header(tree, acc, offset=0, depth=0):\n",
    "  header = '%d %d ' % (len(tree.children), len(tree.metadata))\n",
    "  if len(tree.children):\n",
    "    for c in tree.children:\n",
    "      h = get_header(c, acc, offset=offset + len(header), depth=depth + 1)\n",
    "      header += h + ' '\n",
    "  header += ' '.join(map(str, tree.metadata))\n",
    "  acc[depth].append((tree.name, offset, len(header) - len(tree.name)))\n",
    "  return header\n",
    "    \n",
    "def pretty_print(tree):\n",
    "  acc = collections.defaultdict(lambda: [])\n",
    "  header = get_header(tree, acc)\n",
    "  print(header)\n",
    "  for depth in sorted(acc.keys()):\n",
    "    s = ''\n",
    "    for c, o, n in sorted(acc[depth], key=lambda x: x[1]):\n",
    "      s += ' ' * (o - len(s)) + c + '-' * n\n",
    "    print(s)\n",
    "      \n",
    "tree = parse_tree(list(map(int, \"2 3 0 3 10 11 12 1 1 0 1 99 2 1 1 2\".split())))[0]\n",
    "pretty_print(tree)"
   ]
  }
 ],
 "metadata": {
  "colab": {
   "collapsed_sections": [],
   "name": "day1.ipynb",
   "provenance": [],
   "version": "0.3.2"
  },
  "kernelspec": {
   "display_name": "Python 3",
   "language": "python",
   "name": "python3"
  },
  "language_info": {
   "codemirror_mode": {
    "name": "ipython",
    "version": 3
   },
   "file_extension": ".py",
   "mimetype": "text/x-python",
   "name": "python",
   "nbconvert_exporter": "python",
   "pygments_lexer": "ipython3",
   "version": "3.4.3"
  }
 },
 "nbformat": 4,
 "nbformat_minor": 1
}
