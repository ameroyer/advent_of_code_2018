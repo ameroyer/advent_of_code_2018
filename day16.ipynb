{
  "nbformat": 4,
  "nbformat_minor": 0,
  "metadata": {
    "colab": {
      "name": "day1.ipynb",
      "version": "0.3.2",
      "provenance": [],
      "collapsed_sections": []
    },
    "kernelspec": {
      "name": "python3",
      "display_name": "Python 3"
    }
  },
  "cells": [
    {
      "metadata": {
        "id": "TZ5O20obUjg0",
        "colab_type": "text"
      },
      "cell_type": "markdown",
      "source": [
        "## 🎶  [Day 16](https://adventofcode.com/2018/day/18)"
      ]
    },
    {
      "metadata": {
        "id": "Mk1gkvnlUhYu",
        "colab_type": "code",
        "colab": {}
      },
      "cell_type": "code",
      "source": [
        "import ast \n",
        "\n",
        "def parse_inputs(inputs):\n",
        "  \"\"\"Parse the two parts in the input file\"\"\"\n",
        "  inputs = inputs.split('\\n\\n')\n",
        "  clauses = inputs[:-2]\n",
        "  clauses = [c.splitlines() for c in clauses]\n",
        "  clauses = [(int(b[:-6]), int(b[-5]), int(b[-3]), int(b[-1]),\n",
        "              ast.literal_eval(a.replace('Before: ', '')),\n",
        "              ast.literal_eval(c.replace('After:  ', '')))\n",
        "             for a, b, c in clauses]\n",
        "  test = [list(map(int, line.split())) for line in inputs[-1].split('\\n')[:-1]]\n",
        "  return clauses, test"
      ],
      "execution_count": 0,
      "outputs": []
    },
    {
      "metadata": {
        "id": "axCn6FNaUql6",
        "colab_type": "code",
        "colab": {}
      },
      "cell_type": "code",
      "source": [
        "from functools import partial\n",
        "\n",
        "\"\"\"Defines all instructions\"\"\"\n",
        "def apply_add(a, b, c, before, register=0):\n",
        "  before[c] = before[a] + (before[b] if register else b)\n",
        "  return before\n",
        "\n",
        "def apply_mul(a, b, c, before, register=0):\n",
        "  before[c] = before[a] * (before[b] if register else b)\n",
        "  return before\n",
        "\n",
        "def apply_ban(a, b, c, before, register=0):\n",
        "  before[c] = before[a] & (before[b] if register else b)\n",
        "  return before\n",
        "\n",
        "def apply_bor(a, b, c, before, register=0):\n",
        "  before[c] = before[a] | (before[b] if register else b)\n",
        "  return before\n",
        "\n",
        "def apply_set(a, b, c, before, register=0):\n",
        "  before[c] = before[a] if register else a\n",
        "  return before\n",
        "\n",
        "def apply_gt(a, b, c, before, register=0):\n",
        "  if register == 0:\n",
        "    before[c] = a > before[b]\n",
        "  elif register == 1:\n",
        "    before[c] = before[a] > b\n",
        "  else:\n",
        "    before[c] = before[a] > before[b]    \n",
        "  return before\n",
        "\n",
        "def apply_eq(a, b, c, before, register=0):\n",
        "  if register == 0:\n",
        "    before[c] = a == before[b]\n",
        "  elif register == 1:\n",
        "    before[c] = before[a] == b\n",
        "  else:\n",
        "    before[c] = before[a] == before[b]    \n",
        "  return before\n",
        "\n",
        "\"\"\"Gather all instructions\"\"\"\n",
        "operations = [('addr', partial(apply_add, register=1)), ('addi', partial(apply_add, register=0)),\n",
        "              ('mulr', partial(apply_mul, register=1)), ('muli', partial(apply_mul, register=0)),\n",
        "              ('banr', partial(apply_ban, register=1)), ('bani', partial(apply_ban, register=0)),\n",
        "              ('borr', partial(apply_bor, register=1)), ('bori', partial(apply_bor, register=0)),\n",
        "              ('setr', partial(apply_set, register=1)), ('seti', partial(apply_set, register=0)),\n",
        "              ('gtir', partial(apply_gt, register=0)), ('gtri', partial(apply_gt, register=1)),\n",
        "              ('gtrr', partial(apply_gt, register=2)),\n",
        "              ('eqir', partial(apply_eq, register=0)), ('eqri', partial(apply_eq, register=1)),\n",
        "              ('eqrr', partial(apply_eq, register=2))]"
      ],
      "execution_count": 0,
      "outputs": []
    },
    {
      "metadata": {
        "id": "EKzVobQ5zf9J",
        "colab_type": "code",
        "cellView": "both",
        "colab": {}
      },
      "cell_type": "code",
      "source": [
        "def behaves_like(a, b, c, before, after, op):\n",
        "  \"\"\"Behaviour test\"\"\"\n",
        "  expected = before.copy()\n",
        "  op(a, b, c, expected)\n",
        "  return after == expected\n",
        "\n",
        "def number_behaviours(inputs, threshold=3):\n",
        "  \"\"\"Returns the number of samples with `threshold` or more behaviours\"\"\"\n",
        "  clauses, _ = parse_inputs(inputs)\n",
        "  behave_ops = [partial(behaves_like, op=op) for _, op in operations]\n",
        "  i = 0\n",
        "  for opcode, a, b, c, before, after in clauses:\n",
        "    num_ops = sum([f(a, b, c, before, after) for f in behave_ops])\n",
        "    if num_ops >= threshold:\n",
        "      i += 1\n",
        "  return i    \n",
        "\n",
        "def get_exact_behaviour(clauses, threshold=3):\n",
        "  \"\"\"Returns the number of samples with `threshold` or more behaviours\"\"\"\n",
        "  num_ops = len(operations)\n",
        "  \n",
        "  # Work out assignment possibilities\n",
        "  ops_matches = [[True for _ in range(num_ops)] for _ in range(num_ops)]\n",
        "  behave_ops = [partial(behaves_like, op=op) for _, op in operations]\n",
        "  for opcode, a, b, c, before, after in clauses:\n",
        "    for matchcode, test in enumerate(behave_ops): \n",
        "      ops_matches[opcode][matchcode] = test(a, b, c, before, after) and ops_matches[opcode][matchcode]\n",
        "      \n",
        "  # Greedy assignment\n",
        "  assignment = [0] * num_ops\n",
        "  for i in range(num_ops):\n",
        "    opcode = min(range(num_ops), key=lambda x: sum(ops_matches[x]))\n",
        "    assert sum(ops_matches[opcode]) == 1\n",
        "    match = ops_matches[opcode].index(True)\n",
        "    assignment[opcode] = match\n",
        "    # Update for next\n",
        "    for j in range(num_ops):\n",
        "      ops_matches[j][match] = False\n",
        "    ops_matches[opcode] = [True] * num_ops\n",
        "  return assignment\n",
        "\n",
        "def apply_exact_behaviour(inputs, verbose=True):\n",
        "  \"\"\"Find the correct assignment from part 1 and apply it to part 2\"\"\"\n",
        "  clauses, test = parse_inputs(inputs)\n",
        "  assignment = get_exact_behaviour(clauses)\n",
        "  if verbose:\n",
        "    print('Matched:')\n",
        "    for opcode, matchcode in enumerate(assignment):\n",
        "      print('  Opcode %d matched to %s' % (opcode, operations[matchcode][0]))\n",
        "  before = [0, 0, 0, 0]\n",
        "  for opcode, a, b, c in test:\n",
        "    _, op = operations[assignment[opcode]]\n",
        "    op(a, b, c, before)\n",
        "  return before"
      ],
      "execution_count": 0,
      "outputs": []
    },
    {
      "metadata": {
        "id": "7NCz_xsMEmfO",
        "colab_type": "code",
        "colab": {
          "base_uri": "https://localhost:8080/",
          "height": 357
        },
        "outputId": "ed9bdc3d-8647-4bc8-f1b0-0658163821aa"
      },
      "cell_type": "code",
      "source": [
        "!wget -q -O day14.txt \"https://docs.google.com/uc?export=download&id=1s_UXgKu6J-WXhIY6H76pUnaTtpaa9ZM6\"\n",
        "with open(\"day14.txt\", 'r') as f: \n",
        "  inputs = f.read()\n",
        "  \n",
        "print('Number of sample with >= 3 behaviours:', number_behaviours(inputs))\n",
        "print()\n",
        "print('Final Register after applying the input program:', apply_exact_behaviour(inputs, verbose=True))"
      ],
      "execution_count": 6,
      "outputs": [
        {
          "output_type": "stream",
          "text": [
            "Number of sample with >= 3 behaviours: 509\n",
            "\n",
            "Matched:\n",
            "  Opcode 0 matched to setr\n",
            "  Opcode 1 matched to eqrr\n",
            "  Opcode 2 matched to gtri\n",
            "  Opcode 3 matched to muli\n",
            "  Opcode 4 matched to eqir\n",
            "  Opcode 5 matched to borr\n",
            "  Opcode 6 matched to bori\n",
            "  Opcode 7 matched to mulr\n",
            "  Opcode 8 matched to gtrr\n",
            "  Opcode 9 matched to seti\n",
            "  Opcode 10 matched to banr\n",
            "  Opcode 11 matched to eqri\n",
            "  Opcode 12 matched to addr\n",
            "  Opcode 13 matched to gtir\n",
            "  Opcode 14 matched to addi\n",
            "  Opcode 15 matched to bani\n",
            "Final Register after applying the input program: [496, 2, 3, 496]\n"
          ],
          "name": "stdout"
        }
      ]
    }
  ]
}