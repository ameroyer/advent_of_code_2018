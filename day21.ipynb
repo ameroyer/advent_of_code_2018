{
  "nbformat": 4,
  "nbformat_minor": 0,
  "metadata": {
    "colab": {
      "name": "day1.ipynb",
      "version": "0.3.2",
      "provenance": [],
      "collapsed_sections": []
    },
    "kernelspec": {
      "name": "python3",
      "display_name": "Python 3"
    }
  },
  "cells": [
    {
      "metadata": {
        "id": "TZ5O20obUjg0",
        "colab_type": "text"
      },
      "cell_type": "markdown",
      "source": [
        "## 🍪  [Day 21](https://adventofcode.com/2018/day/21)"
      ]
    },
    {
      "metadata": {
        "id": "OFANmowKqtDc",
        "colab_type": "text"
      },
      "cell_type": "markdown",
      "source": [
        "And here is another `ElfCode` problem.  the goal is to find which value of `R0` leads to the shortest program (that terminates). \n",
        "\n",
        "First we can get rid of the first code line, that only checks that `bani` acts on number inputs.\n",
        "\n",
        "```\n",
        "#ip 2\n",
        "seti 123 0 5 --> Set R5 to 123\n",
        "bani 5 456 5 --> R5 = 123 & 456\n",
        "eqri 5 72 5 --> Set R5 to bool(R5 == 72)\n",
        "addr 5 2 2 --> R2 += R5\n",
        "seti 0 0 2\n",
        "```\n",
        "This code is equivalent to checking`123 & 456 == 72 ?`. If inputs are treated as numbers, this should be `True` and the instruction pointer skips to the actual program. Otherwise it loops back infinitely. Hence we can safely skip this code.\n"
      ]
    },
    {
      "metadata": {
        "id": "Mk1gkvnlUhYu",
        "colab_type": "code",
        "colab": {},
        "cellView": "form"
      },
      "cell_type": "code",
      "source": [
        "#@title Define all operations (see Day 16 and 19)\n",
        "\"\"\"Defines all instructions\"\"\"\n",
        "def apply_add(a, b, c, before, register=0):\n",
        "  before[c] = before[a] + (before[b] if register else b)\n",
        "  return before\n",
        "\n",
        "\n",
        "def apply_mul(a, b, c, before, register=0):\n",
        "  before[c] = before[a] * (before[b] if register else b)\n",
        "  return before\n",
        "\n",
        "\n",
        "def apply_ban(a, b, c, before, register=0):\n",
        "  before[c] = before[a] & (before[b] if register else b)\n",
        "  return before\n",
        "\n",
        "\n",
        "def apply_bor(a, b, c, before, register=0):\n",
        "  before[c] = before[a] | (before[b] if register else b)\n",
        "  return before\n",
        "\n",
        "\n",
        "def apply_set(a, b, c, before, register=0):\n",
        "  before[c] = before[a] if register else a\n",
        "  return before\n",
        "\n",
        "\n",
        "def apply_gt(a, b, c, before, register=0):\n",
        "  if register == 0:\n",
        "    before[c] = a > before[b]\n",
        "  elif register == 1:\n",
        "    before[c] = before[a] > b\n",
        "  else:\n",
        "    before[c] = before[a] > before[b]    \n",
        "  return before\n",
        "\n",
        "\n",
        "def apply_eq(a, b, c, before, register=0):\n",
        "  if register == 0:\n",
        "    before[c] = a == before[b]\n",
        "  elif register == 1:\n",
        "    before[c] = before[a] == b\n",
        "  else:\n",
        "    before[c] = before[a] == before[b]    \n",
        "  return before\n",
        "\n",
        "\n",
        "\"\"\"Gather all instructions\"\"\"\n",
        "from functools import partial\n",
        "operations = {'addr': partial(apply_add, register=1),\n",
        "              'addi': partial(apply_add, register=0),\n",
        "              'mulr': partial(apply_mul, register=1), \n",
        "              'muli': partial(apply_mul, register=0),\n",
        "              'banr': partial(apply_ban, register=1), \n",
        "              'bani': partial(apply_ban, register=0),\n",
        "              'borr': partial(apply_bor, register=1), \n",
        "              'bori': partial(apply_bor, register=0),\n",
        "              'setr': partial(apply_set, register=1), \n",
        "              'seti': partial(apply_set, register=0),\n",
        "              'gtir': partial(apply_gt, register=0), \n",
        "              'gtri': partial(apply_gt, register=1),\n",
        "              'gtrr': partial(apply_gt, register=2),\n",
        "              'eqir': partial(apply_eq, register=0), \n",
        "              'eqri': partial(apply_eq, register=1),\n",
        "              'eqrr': partial(apply_eq, register=2)}"
      ],
      "execution_count": 0,
      "outputs": []
    },
    {
      "metadata": {
        "id": "axCn6FNaUql6",
        "colab_type": "code",
        "colab": {}
      },
      "cell_type": "code",
      "source": [
        "def run_programm(inputs, init_registers=None, stop_on_instruction=None, verbose=False):\n",
        "  \"\"\"Run the background program\"\"\"\n",
        "  registers = [0] * 6\n",
        "  if init_registers is not None:\n",
        "    registers = init_registers\n",
        "  inst_register = inputs[0][1]\n",
        "  instructions = inputs[1:]\n",
        "  step = 0\n",
        "  while 1:\n",
        "    # run op\n",
        "    op, a, b, c = instructions[registers[inst_register]]\n",
        "    # stop if found instructions\n",
        "    if stop_on_instruction is not None and registers[inst_register] == stop_on_instruction:\n",
        "      print('Step %d' % (step + 1), op, a, b, c, '-->', registers)      \n",
        "      break\n",
        "    operations[op](a, b, c, registers)\n",
        "    # stop if finished\n",
        "    if registers[inst_register] >= len(instructions) - 1:\n",
        "      break\n",
        "    # next step\n",
        "    registers[inst_register] += 1\n",
        "    step += 1\n",
        "    # verbose\n",
        "    if verbose:\n",
        "      print('Step %d' % (step + 1), op, a, b, c, '-->', registers)\n",
        "  return step, registers"
      ],
      "execution_count": 0,
      "outputs": []
    },
    {
      "metadata": {
        "id": "42JzJarFq_tM",
        "colab_type": "text"
      },
      "cell_type": "markdown",
      "source": [
        "Once this test is done,  the program starts directly from instruction 5. Turns out the only instructions that refers to `R0` are the following:\n",
        "\n",
        "```\n",
        "24. eqrr 5 0 1 --> R1 = bool(R5 == R0)\n",
        "25. addr 1 2 2  \n",
        "26. seti 5 2 2\n",
        "```\n",
        "which translates as: if `R0` is equal to `R5` at line 24, then we exit the program; otherwise the program loops back from the start. In other words, to get the shortest programm, we need to determine when the program **first** arrives at `line 24`, (starting from zero registers); we know we can exit the program simply by setting `R0` to the value of `R5` at that point."
      ]
    },
    {
      "metadata": {
        "id": "LqXBEfRttpFF",
        "colab_type": "code",
        "outputId": "04436091-5280-4972-e0e0-1dc4ba47aeac",
        "colab": {
          "base_uri": "https://localhost:8080/",
          "height": 51
        }
      },
      "cell_type": "code",
      "source": [
        "with open(\"day21.txt\", 'r') as f:  \n",
        "  inputs = f.read().splitlines()\n",
        "  for i, line in enumerate(inputs):\n",
        "    if line.startswith('#'):\n",
        "      inputs[i] = ('inst', int(line[-1]), 0, 0)\n",
        "    else:\n",
        "      aux = line.split()\n",
        "      inputs[i] = (aux[0], int(aux[1]), int(aux[2]), int(aux[3]))\n",
        "      \n",
        "r5_value = run_programm(inputs, stop_on_instruction=28)[1][5]\n",
        "print('Setting R0 to %d, program finishes in %d instructions' % (\n",
        "    r5_value, run_programm(inputs, init_registers=[r5_value, 0, 0, 0, 0, 0])[0]))            "
      ],
      "execution_count": 5,
      "outputs": [
        {
          "output_type": "stream",
          "text": [
            "Step 1847 eqrr 5 0 1 --> [0, True, 28, 1, True, 6619857]\n",
            "Setting R0 to 6619857, program finishes in 1847 instructions\n"
          ],
          "name": "stdout"
        }
      ]
    },
    {
      "metadata": {
        "id": "bKdPscwArNW6",
        "colab_type": "text"
      },
      "cell_type": "markdown",
      "source": [
        "Now we need to get the value of `R0` for the longest execution that **still terminates**. In other words we need to find the highest value `R5` can achieve without ending up in a infinite loop. The core program is as follows\n",
        "\n",
        "```\n",
        "01. seti 0 3 5 \n",
        "02. bori 5 65536 3\n",
        "03. seti 9010242 6 5    \n",
        "04. bani 3 255 1         \n",
        "05. addr 5 1 5           \n",
        "06. bani 5 16777215 5    \n",
        "07. muli 5 65899 5       \n",
        "08. bani 5 16777215 5    \n",
        "09. gtir 256 3 1        \n",
        "10. addr 1 2 2           \n",
        "11. addi 2 1 2           \n",
        "12. seti 27 6 2      \n",
        "13. seti 0 8 1\n",
        "14. addi 1 1 4\n",
        "15. muli 4 256 4\n",
        "16. gtrr 4 3 4\n",
        "17. addr 4 2 2\n",
        "18. addi 2 1 2\n",
        "19. seti 25 5 2\n",
        "20. addi 1 1 1\n",
        "21. seti 17 7 2 \n",
        "22. setr 1 3 3\n",
        "23. seti 7 2 2 \n",
        "```\n",
        "\n",
        "\n",
        "In python pseudo code, this translates as:\n",
        "```python\n",
        "r5 = 0\n",
        "while r0 != r5:\n",
        "  r3 = 65536 | r5\n",
        "  while r3 >= 256: \n",
        "    # instructions [9 - 15]\n",
        "    r1 = r3 & 255\n",
        "    r5 = (((9010242 + r1) & 16777215) * 65899) & 16777215    \n",
        "    # [instructions 19 - 27]\n",
        "    r3 = ceil(r3 // 256)     \n",
        "```\n",
        "\n",
        "When executing the program, we notice the values `R5` takes are cyclic, causing the program to fall into a loop. Consequently we need to set `R0`t o the last value reached by `R5` in that cycle to get the longest terminating run.\n"
      ]
    },
    {
      "metadata": {
        "id": "8K1C23pFrN16",
        "colab_type": "code",
        "colab": {
          "base_uri": "https://localhost:8080/",
          "height": 34
        },
        "outputId": "ddc4af30-9a34-4d9e-f994-0ce164b21e6f"
      },
      "cell_type": "code",
      "source": [
        "from math import ceil\n",
        "\n",
        "history_r5 = []\n",
        "r5 = 0\n",
        "while r5 not in history_r5:\n",
        "  history_r5.append(r5)\n",
        "  r3 = 65536 | r5\n",
        "  r5 = 9010242\n",
        "  while 1:\n",
        "    r1 = r3 & 255\n",
        "    r5 = (((r5 + r1) & 16777215) * 65899) & 16777215\n",
        "    if r3 >= 256:\n",
        "      r3 = ceil(r3 // 256)\n",
        "    else:\n",
        "      break\n",
        "r5_value = history_r5[-1]\n",
        "print('R0 value for longest terminating run:', r5_value)   "
      ],
      "execution_count": 6,
      "outputs": [
        {
          "output_type": "stream",
          "text": [
            "R0 value for longest terminating run: 9547924\n"
          ],
          "name": "stdout"
        }
      ]
    },
    {
      "metadata": {
        "id": "ExQOrWW36gWD",
        "colab_type": "text"
      },
      "cell_type": "markdown",
      "source": [
        "Just for fun, we can check how long running this program actually takes :)"
      ]
    },
    {
      "metadata": {
        "id": "YkgOLi3_sAhz",
        "colab_type": "code",
        "colab": {
          "base_uri": "https://localhost:8080/",
          "height": 68
        },
        "outputId": "f1326318-53e8-4ce0-b48c-728b23689b9b"
      },
      "cell_type": "code",
      "source": [
        "%%time\n",
        "print('Setting R0 to %d, program finishes in %d instructions' % (\n",
        "    r5_value, run_programm(inputs, init_registers=[r5_value, 0, 0, 0, 0, 0])[0]))  "
      ],
      "execution_count": 7,
      "outputs": [
        {
          "output_type": "stream",
          "text": [
            "Setting R0 to 9547924, program finishes in 2346341652 instructions\n",
            "CPU times: user 34min 14s, sys: 226 ms, total: 34min 14s\n",
            "Wall time: 34min 14s\n"
          ],
          "name": "stdout"
        }
      ]
    }
  ]
}