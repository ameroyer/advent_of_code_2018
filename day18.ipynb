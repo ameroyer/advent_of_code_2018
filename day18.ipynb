{
  "nbformat": 4,
  "nbformat_minor": 0,
  "metadata": {
    "colab": {
      "name": "day1.ipynb",
      "version": "0.3.2",
      "provenance": [],
      "collapsed_sections": []
    },
    "kernelspec": {
      "name": "python3",
      "display_name": "Python 3"
    }
  },
  "cells": [
    {
      "metadata": {
        "id": "TZ5O20obUjg0",
        "colab_type": "text"
      },
      "cell_type": "markdown",
      "source": [
        "## 🍠  [Day 18](https://adventofcode.com/2018/day/18)"
      ]
    },
    {
      "metadata": {
        "id": "Mk1gkvnlUhYu",
        "colab_type": "code",
        "colab": {}
      },
      "cell_type": "code",
      "source": [
        "import numpy as np\n",
        "from scipy.signal import convolve\n",
        "\n",
        "def display_area(widget, area, step=0):\n",
        "    \"\"\"Display the acres area in a HTML Ipython Widget\"\"\"\n",
        "    html_content = ('<center>Step %04d<br><table>' % step + \n",
        "                    '\\n'.join('<tr>%s</tr>' % (\n",
        "        ''.join('<td>%s</td>' % (\n",
        "                    '.' if c == 0 else '|' if c == 1 else '#') \n",
        "                for c in line)) \n",
        "                             for line in area) + \"</table></center>\")\n",
        "    widget.value = html_content\n",
        "    \n",
        "    \n",
        "def one_generation(grid):\n",
        "    \"\"\"Apply one generation of the 'Game of Trees'\"\"\"\n",
        "    kernel = np.array([[1, 1, 1], [1, 0, 1], [1, 1, 1]], \n",
        "                      dtype=np.float32)\n",
        "    # count number of trees around each cell\n",
        "    trees = (grid == 1)\n",
        "    num_trees = convolve(trees, kernel, mode='same')\n",
        "    # count number of lumberyards around each cell\n",
        "    lumberyards = (grid == 2)\n",
        "    num_lumberyards = convolve(lumberyards, kernel, mode='same')\n",
        "    # update rules\n",
        "    grid[~trees & ~lumberyards & (num_trees >= 3)] = 1\n",
        "    grid[trees & (num_lumberyards >= 3)] = 2\n",
        "    grid[lumberyards & ~((num_lumberyards >= 1) & \n",
        "                         (num_trees >= 1))] = 0\n",
        "    return grid\n",
        "\n",
        "  \n",
        "def get_resource_value(inputs,\n",
        "                       num_minutes=10,\n",
        "                       verbose=False,\n",
        "                       sleep_delay=0.1):\n",
        "    \"\"\"Compute the total resource value after the given number of \n",
        "        minutes and display the area's evoluation if `verbose`\"\"\"\n",
        "    grid = np.copy(inputs)\n",
        "    widget = None\n",
        "    if verbose:\n",
        "        widget = ipywidgets.HTML()\n",
        "        display_area(widget, grid, step=0)\n",
        "        display(widget)\n",
        "    for n in range(num_minutes):\n",
        "        one_generation(grid)\n",
        "        if widget is not None:\n",
        "            display_area(widget, grid, step=n + 1)\n",
        "            time.sleep(sleep_delay)\n",
        "    return np.sum(grid == 1) * np.sum(grid == 2)\n",
        "\n",
        "  \n",
        "def get_resource_value_with_periodicity(inputs, num_minutes=10):\n",
        "    \"\"\"Compute the total resource value after the given number of \n",
        "        minutes and tries to retrieve periodic pattern if any\"\"\"\n",
        "    grid = np.copy(inputs)\n",
        "    history = [inputs]\n",
        "    for n in range(num_minutes):\n",
        "        one_generation(grid)\n",
        "        # Test if periodic pattern\n",
        "        for t, h in enumerate(history):\n",
        "            if np.all(grid == h):\n",
        "                print('Periodicity found: [%d, %d]' % (t, n))\n",
        "                history = history[t:]\n",
        "                last_frame = (num_minutes - n - 1) % (n + 1 - t)\n",
        "                grid = history[last_frame]\n",
        "                return np.sum(grid == 1) * np.sum(grid == 2)\n",
        "        # Otherwise append to history\n",
        "        history.append(np.copy(grid))\n",
        "    return np.sum(grid == 1) * np.sum(grid == 2)"
      ],
      "execution_count": 0,
      "outputs": []
    },
    {
      "metadata": {
        "id": "axCn6FNaUql6",
        "colab_type": "code",
        "colab": {
          "base_uri": "https://localhost:8080/",
          "height": 85
        },
        "outputId": "81b659dd-8241-4490-c820-0084b8ba0e5b"
      },
      "cell_type": "code",
      "source": [
        "with open('day18.txt', 'r') as f:\n",
        "  inputs = np.array([\n",
        "          [0 if char == '.' else 1 if char == '|' else 2\n",
        "           for char in line] \n",
        "            for line in f.read().splitlines() if line.strip()])\n",
        "    \n",
        "print('Total Resource value after 10 minutes:', \n",
        "      get_resource_value(inputs, num_minutes=10, verbose=False))\n",
        "print()\n",
        "print('Total Resource value after... a while:', \n",
        "      get_resource_value_with_periodicity(inputs, \n",
        "                                          num_minutes=1000000000))"
      ],
      "execution_count": 4,
      "outputs": [
        {
          "output_type": "stream",
          "text": [
            "Total Resource value after 10 minutes: 519552\n",
            "\n",
            "Periodicity found: [568, 595]\n",
            "Total Resource value after... a while: 165376\n"
          ],
          "name": "stdout"
        }
      ]
    },
    {
      "metadata": {
        "id": "LqXBEfRttpFF",
        "colab_type": "code",
        "colab": {
          "base_uri": "https://localhost:8080/",
          "height": 246
        },
        "outputId": "c3febdb6-3e03-47cc-ca51-6f0fb18bd9b2"
      },
      "cell_type": "code",
      "source": [
        "## Display example on the test inputs \n",
        "# Works in normal ipython\n",
        "# ipywidgets are not supported with colab so far\n",
        "import time\n",
        "import ipywidgets\n",
        "from IPython.display import display\n",
        "\n",
        "test_inputs = \"\"\".#.#...|#.\n",
        ".....#|##|\n",
        ".|..|...#.\n",
        "..|#.....#\n",
        "#.#|||#|#|\n",
        "...#.||...\n",
        ".|....|...\n",
        "||...#|.#|\n",
        "|.||||..|.\n",
        "...#.|..|.\"\"\"\n",
        "\n",
        "test_inputs = np.array([\n",
        "    [0 if char == '.' else 1 if char == '|' else 2 for char in line] \n",
        "    for line in test_inputs.splitlines() if line.strip()])\n",
        "_ = get_resource_value(test_inputs, num_minutes=18, verbose=True)"
      ],
      "execution_count": 6,
      "outputs": [
        {
          "output_type": "display_data",
          "data": {
            "text/html": [
              "<center>Step 0018<br><table><tr><td>.</td><td>.</td><td>.</td><td>.</td><td>.</td><td>.</td><td>.</td><td>.</td><td>.</td><td>.</td></tr>\n",
              "<tr><td>.</td><td>.</td><td>.</td><td>.</td><td>.</td><td>.</td><td>.</td><td>.</td><td>.</td><td>.</td></tr>\n",
              "<tr><td>.</td><td>.</td><td>.</td><td>.</td><td>.</td><td>.</td><td>.</td><td>.</td><td>.</td><td>.</td></tr>\n",
              "<tr><td>.</td><td>.</td><td>.</td><td>.</td><td>.</td><td>.</td><td>.</td><td>.</td><td>.</td><td>.</td></tr>\n",
              "<tr><td>.</td><td>.</td><td>.</td><td>.</td><td>.</td><td>.</td><td>.</td><td>.</td><td>.</td><td>.</td></tr>\n",
              "<tr><td>.</td><td>.</td><td>.</td><td>.</td><td>.</td><td>.</td><td>.</td><td>.</td><td>.</td><td>.</td></tr>\n",
              "<tr><td>.</td><td>.</td><td>.</td><td>.</td><td>.</td><td>.</td><td>.</td><td>.</td><td>.</td><td>.</td></tr>\n",
              "<tr><td>.</td><td>.</td><td>.</td><td>.</td><td>.</td><td>.</td><td>.</td><td>.</td><td>.</td><td>.</td></tr>\n",
              "<tr><td>.</td><td>.</td><td>.</td><td>.</td><td>.</td><td>.</td><td>.</td><td>.</td><td>.</td><td>.</td></tr>\n",
              "<tr><td>.</td><td>.</td><td>.</td><td>.</td><td>.</td><td>.</td><td>.</td><td>.</td><td>.</td><td>.</td></tr></table></center>"
            ],
            "text/plain": [
              "<IPython.core.display.HTML object>"
            ]
          },
          "metadata": {
            "tags": []
          }
        }
      ]
    }
  ]
}