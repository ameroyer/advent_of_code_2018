{
 "cells": [
  {
   "cell_type": "markdown",
   "metadata": {
    "colab_type": "text",
    "id": "TZ5O20obUjg0"
   },
   "source": [
    "## 🎁 [Day 2](https://adventofcode.com/2018/day/2)\n"
   ]
  },
  {
   "cell_type": "code",
   "execution_count": 0,
   "metadata": {
    "colab": {},
    "colab_type": "code",
    "id": "Mk1gkvnlUhYu"
   },
   "outputs": [],
   "source": [
    "import numpy as np\n",
    "\n",
    "def get_checksum(inputs):\n",
    "  \"\"\"Get Total Checksum\"\"\"\n",
    "  num_twos, num_threes = 0, 0\n",
    "  for l in inputs:\n",
    "    _, counts = np.unique(list(l), return_counts=True)\n",
    "    counts[(counts < 2) | (counts > 3)] = 1\n",
    "    counts = np.prod(counts)\n",
    "    if counts % 2 == 0:\n",
    "      num_twos += 1\n",
    "    if counts % 3 == 0:\n",
    "      num_threes += 1\n",
    "  return num_twos * num_threes\n",
    "\n",
    "def get_correct_id(inputs):\n",
    "  \"\"\"Get IDs with Hamming distance exactly 1\"\"\"\n",
    "  inputs_int = np.array([list(map(ord, l)) for l in inputs])\n",
    "  diffs = np.sum(inputs_int[:, None, :] != inputs_int[None, :, :], axis=-1)\n",
    "  match = np.argwhere(diffs == 1)\n",
    "  string1 = inputs[match[0][0]]\n",
    "  string2 = inputs[match[0][1]]\n",
    "  s = ''.join(a for a, b in zip(string1, string2) if a == b)\n",
    "  return s"
   ]
  },
  {
   "cell_type": "code",
   "execution_count": 4,
   "metadata": {
    "colab": {
     "base_uri": "https://localhost:8080/",
     "height": 51
    },
    "colab_type": "code",
    "id": "axCn6FNaUql6",
    "outputId": "95e9a10c-23cf-420b-db25-04b6e0e810db"
   },
   "outputs": [
    {
     "name": "stdout",
     "output_type": "stream",
     "text": [
      "Checksum: 7936\n",
      "Correct ID: lnfqdscwjyteorambzuchrgpx\n"
     ]
    }
   ],
   "source": [
    "with open(\"day2.txt\", 'r') as f:\n",
    "  inputs = f.read().splitlines()\n",
    "  \n",
    "print('Checksum:', get_checksum(inputs))\n",
    "print('Correct ID:', get_correct_id(inputs))"
   ]
  }
 ],
 "metadata": {
  "colab": {
   "collapsed_sections": [],
   "name": "day1.ipynb",
   "provenance": [],
   "version": "0.3.2"
  },
  "kernelspec": {
   "display_name": "Python 3",
   "language": "python",
   "name": "python3"
  },
  "language_info": {
   "codemirror_mode": {
    "name": "ipython",
    "version": 3
   },
   "file_extension": ".py",
   "mimetype": "text/x-python",
   "name": "python",
   "nbconvert_exporter": "python",
   "pygments_lexer": "ipython3",
   "version": "3.5.2"
  }
 },
 "nbformat": 4,
 "nbformat_minor": 1
}
