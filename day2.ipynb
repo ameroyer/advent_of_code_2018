{
  "nbformat": 4,
  "nbformat_minor": 0,
  "metadata": {
    "colab": {
      "name": "day1.ipynb",
      "version": "0.3.2",
      "provenance": [],
      "collapsed_sections": []
    },
    "kernelspec": {
      "name": "python3",
      "display_name": "Python 3"
    }
  },
  "cells": [
    {
      "metadata": {
        "id": "TZ5O20obUjg0",
        "colab_type": "text"
      },
      "cell_type": "markdown",
      "source": [
        "## 🎁 [Day 2](https://adventofcode.com/2018/day/2)\n"
      ]
    },
    {
      "metadata": {
        "id": "Mk1gkvnlUhYu",
        "colab_type": "code",
        "colab": {}
      },
      "cell_type": "code",
      "source": [
        "import numpy as np\n",
        "\n",
        "def get_checksum(inputs):\n",
        "  num_twos, num_threes = 0, 0\n",
        "  for l in inputs:\n",
        "    _, counts = np.unique(list(l), return_counts=True)\n",
        "    counts[(counts < 2) | (counts > 3)] = 1\n",
        "    counts = np.prod(counts)\n",
        "    if counts % 2 == 0:\n",
        "      num_twos += 1\n",
        "    if counts % 3 == 0:\n",
        "      num_threes += 1\n",
        "  return num_twos * num_threes\n",
        "\n",
        "def get_correct_id(inputs):\n",
        "  inputs_int = np.array([list(map(ord, l)) for l in inputs])\n",
        "  diffs = np.sum(inputs_int[:, None, :] != inputs_int[None, :, :], axis=-1)\n",
        "  match = np.argwhere(diffs == 1)\n",
        "  string1 = inputs[match[0][0]]\n",
        "  string2 = inputs[match[0][1]]\n",
        "  s = ''.join(a for a, b in zip(string1, string2) if a == b)\n",
        "  return s"
      ],
      "execution_count": 0,
      "outputs": []
    },
    {
      "metadata": {
        "id": "axCn6FNaUql6",
        "colab_type": "code",
        "colab": {
          "base_uri": "https://localhost:8080/",
          "height": 51
        },
        "outputId": "95e9a10c-23cf-420b-db25-04b6e0e810db"
      },
      "cell_type": "code",
      "source": [
        "with open(\"day2.txt\", 'r') as f:\n",
        "  inputs = f.read().splitlines()\n",
        "  \n",
        "print('Checksum:', get_checksum(inputs))\n",
        "print('Correct ID:', get_correct_id(inputs))"
      ],
      "execution_count": 4,
      "outputs": [
        {
          "output_type": "stream",
          "text": [
            "Checksum: 7936\n",
            "Correct ID: lnfqdscwjyteorambzuchrgpx\n"
          ],
          "name": "stdout"
        }
      ]
    }
  ]
}