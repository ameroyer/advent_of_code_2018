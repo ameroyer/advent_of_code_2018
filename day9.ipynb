{
  "nbformat": 4,
  "nbformat_minor": 0,
  "metadata": {
    "colab": {
      "name": "day1.ipynb",
      "version": "0.3.2",
      "provenance": [],
      "collapsed_sections": []
    },
    "kernelspec": {
      "name": "python3",
      "display_name": "Python 3"
    }
  },
  "cells": [
    {
      "metadata": {
        "id": "TZ5O20obUjg0",
        "colab_type": "text"
      },
      "cell_type": "markdown",
      "source": [
        "##  💗 [Day 9](https://adventofcode.com/2018/day/9)"
      ]
    },
    {
      "metadata": {
        "id": "Mk1gkvnlUhYu",
        "colab_type": "code",
        "colab": {}
      },
      "cell_type": "code",
      "source": [
        "def display_marbles(marbles, current_index, width=3):\n",
        "  \"\"\"Display marbles\"\"\"\n",
        "  def fmt(s):\n",
        "    return '{message: >{width}}'.format(message=s, width=width)\n",
        "  print(' '.join(fmt(str(m) if i != current_index else '(%d)' % m)\n",
        "                 for i, m in enumerate(marbles)))\n",
        "\n",
        "def play(inputs, verbose=False):\n",
        "  \"\"\"Play the marbles game for the specified number of players and marbles\n",
        "    and returns the highest score\"\"\"\n",
        "  # Set-up the game\n",
        "  num_players, num_marbles = inputs\n",
        "  scores = [0] * num_players\n",
        "  marbles = [0]\n",
        "  current_index = 0\n",
        "  if verbose:  \n",
        "    display_marbles(marbles, current_index)\n",
        "  # Play\n",
        "  for i in range(num_marbles):\n",
        "    marble = i + 1\n",
        "    if marble % 23 != 0:\n",
        "      place_index = (current_index + 1) % len(marbles)\n",
        "      current_index = place_index + 1\n",
        "      marbles.insert(current_index, marble)\n",
        "      current_index = current_index\n",
        "    else:\n",
        "      current_index = (current_index - 7) % len(marbles)\n",
        "      score = marble + marbles.pop(current_index)\n",
        "      scores[marble % num_players] += score\n",
        "    if verbose:  \n",
        "      display_marbles(marbles, current_index)\n",
        "  return max(scores)\n",
        "\n",
        "class DoublyLinkedNode:\n",
        "  \"\"\"Define a Doubly Linked Structure to play the Marbles game\"\"\"\n",
        "  def __init__(self, value, left=None, right=None):\n",
        "    self.value = value\n",
        "    self.left = left\n",
        "    self.right = right\n",
        "    if left is not None:\n",
        "      left.right = self\n",
        "    if right is not None:\n",
        "      right.left = self\n",
        "    \n",
        "  def insert_marble(self, value):\n",
        "    \"\"\"Insert a marble normally and returns reference to the current marble\"\"\"\n",
        "    if self.right is None:\n",
        "      new_marble = DoublyLinkedNode(value=value, left=self, right=self)\n",
        "      self.right = new_marble\n",
        "      self.left = new_marble\n",
        "    else:\n",
        "      new_marble = DoublyLinkedNode(value=value, left=self.right, right=self.right.right)\n",
        "    return new_marble\n",
        "  \n",
        "  def score_marble(self, value):\n",
        "    \"\"\" 'Insert' a marble which is a multiple of 23 and returns reference to the current marble\"\"\"\n",
        "    to_remove = self\n",
        "    for _ in range(7): \n",
        "      to_remove = to_remove.left\n",
        "    to_remove.left.right = to_remove.right\n",
        "    to_remove.right.left = to_remove.left\n",
        "    return value + to_remove.value, to_remove.right  \n",
        "\n",
        "def play_faster(inputs):\n",
        "  \"\"\"Play the marble game with a Doubly Linked list structure.\n",
        "     This avoids the heavy overhead of insertion and deletion\"\"\"\n",
        "  # Set-up the game\n",
        "  num_players, num_marbles = inputs\n",
        "  scores = [0] * num_players\n",
        "  current_node = DoublyLinkedNode(0)\n",
        "  current_index = 0\n",
        "  # Play\n",
        "  for i in range(num_marbles):\n",
        "    marble = i + 1\n",
        "    if marble % 23 != 0:\n",
        "      current_node = current_node.insert_marble(marble)\n",
        "    else:\n",
        "      score, current_node = current_node.score_marble(marble)\n",
        "      scores[marble % num_players] += score\n",
        "  return max(scores)"
      ],
      "execution_count": 0,
      "outputs": []
    },
    {
      "metadata": {
        "id": "axCn6FNaUql6",
        "colab_type": "code",
        "outputId": "535e4ab8-e5fe-4636-cb9c-be948af4f2d8",
        "colab": {
          "base_uri": "https://localhost:8080/",
          "height": 85
        }
      },
      "cell_type": "code",
      "source": [
        "%%time\n",
        "with open(\"day9.txt\", 'r') as f:\n",
        "  inputs = [int(x) for x in f.read().split() if x.isdigit()]\n",
        "  \n",
        "print('Highest score:', play(inputs))\n",
        "print('Highest score:', play_faster((inputs[0], inputs[1] * 100)))"
      ],
      "execution_count": 2,
      "outputs": [
        {
          "output_type": "stream",
          "text": [
            "Highest score: 412117\n",
            "Highest score: 3444129546\n",
            "CPU times: user 28.1 s, sys: 1.34 s, total: 29.4 s\n",
            "Wall time: 32.3 s\n"
          ],
          "name": "stdout"
        }
      ]
    },
    {
      "metadata": {
        "id": "7mNqoUNZkzny",
        "colab_type": "code",
        "cellView": "form",
        "outputId": "8dc4603d-5101-4efd-a178-25920bd831cb",
        "colab": {
          "base_uri": "https://localhost:8080/",
          "height": 493
        }
      },
      "cell_type": "code",
      "source": [
        "#@title Visualize a short game\n",
        "print('\\nHighest Score:', play((9, 25), verbose=True))"
      ],
      "execution_count": 3,
      "outputs": [
        {
          "output_type": "stream",
          "text": [
            "(0)\n",
            "  0 (1)\n",
            "  0 (2)   1\n",
            "  0   2   1 (3)\n",
            "  0 (4)   2   1   3\n",
            "  0   4   2 (5)   1   3\n",
            "  0   4   2   5   1 (6)   3\n",
            "  0   4   2   5   1   6   3 (7)\n",
            "  0 (8)   4   2   5   1   6   3   7\n",
            "  0   8   4 (9)   2   5   1   6   3   7\n",
            "  0   8   4   9   2 (10)   5   1   6   3   7\n",
            "  0   8   4   9   2  10   5 (11)   1   6   3   7\n",
            "  0   8   4   9   2  10   5  11   1 (12)   6   3   7\n",
            "  0   8   4   9   2  10   5  11   1  12   6 (13)   3   7\n",
            "  0   8   4   9   2  10   5  11   1  12   6  13   3 (14)   7\n",
            "  0   8   4   9   2  10   5  11   1  12   6  13   3  14   7 (15)\n",
            "  0 (16)   8   4   9   2  10   5  11   1  12   6  13   3  14   7  15\n",
            "  0  16   8 (17)   4   9   2  10   5  11   1  12   6  13   3  14   7  15\n",
            "  0  16   8  17   4 (18)   9   2  10   5  11   1  12   6  13   3  14   7  15\n",
            "  0  16   8  17   4  18   9 (19)   2  10   5  11   1  12   6  13   3  14   7  15\n",
            "  0  16   8  17   4  18   9  19   2 (20)  10   5  11   1  12   6  13   3  14   7  15\n",
            "  0  16   8  17   4  18   9  19   2  20  10 (21)   5  11   1  12   6  13   3  14   7  15\n",
            "  0  16   8  17   4  18   9  19   2  20  10  21   5 (22)  11   1  12   6  13   3  14   7  15\n",
            "  0  16   8  17   4  18 (19)   2  20  10  21   5  22  11   1  12   6  13   3  14   7  15\n",
            "  0  16   8  17   4  18  19   2 (24)  20  10  21   5  22  11   1  12   6  13   3  14   7  15\n",
            "  0  16   8  17   4  18  19   2  24  20 (25)  10  21   5  22  11   1  12   6  13   3  14   7  15\n",
            "\n",
            "Highest Score: 32\n"
          ],
          "name": "stdout"
        }
      ]
    }
  ]
}