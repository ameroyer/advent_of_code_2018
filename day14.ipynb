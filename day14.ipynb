{
  "nbformat": 4,
  "nbformat_minor": 0,
  "metadata": {
    "colab": {
      "name": "day1.ipynb",
      "version": "0.3.2",
      "provenance": [],
      "collapsed_sections": []
    },
    "kernelspec": {
      "name": "python3",
      "display_name": "Python 3"
    }
  },
  "cells": [
    {
      "metadata": {
        "id": "TZ5O20obUjg0",
        "colab_type": "text"
      },
      "cell_type": "markdown",
      "source": [
        "##  ☕ [Day 14](https://adventofcode.com/2018/day/14)"
      ]
    },
    {
      "metadata": {
        "id": "Mk1gkvnlUhYu",
        "colab_type": "code",
        "colab": {}
      },
      "cell_type": "code",
      "source": [
        "def update_elf(elf, recipes):\n",
        "  \"\"\"Update an elf position\"\"\"\n",
        "  elf += recipes[elf] + 1\n",
        "  if elf >= len(recipes):\n",
        "    elf = elf % len(recipes)\n",
        "  return elf\n",
        "\n",
        "def cacao_machine(inputs, part1=True, verbose=False):\n",
        "  \"\"\"Run the cacao machine !\"\"\"\n",
        "  # Init\n",
        "  i = 0\n",
        "  elf1 = 0\n",
        "  elf2 = 1\n",
        "  recipes = [3, 7]\n",
        "  part2_pattern = [int(x) for x in str(inputs)]\n",
        "  len_pattern = len(part2_pattern)\n",
        "  if verbose:\n",
        "    print('Step %05d' % 0, recipes)\n",
        "    \n",
        "  # Make chocolate\n",
        "  while 1:\n",
        "    i += 1\n",
        "    # Update recipes\n",
        "    new_recipe = recipes[elf1] + recipes[elf2]\n",
        "    q, r = divmod(new_recipe, 10)\n",
        "    if q > 0:\n",
        "      recipes.append(q)\n",
        "    recipes.append(r)\n",
        "    # Update elf position\n",
        "    elf1 = update_elf(elf1, recipes)\n",
        "    elf2 = update_elf(elf2, recipes)\n",
        "    if verbose:\n",
        "      print('Step %05d' % (i + 1), recipes)\n",
        "      \n",
        "    # Stop (part1)\n",
        "    if part1 and (len(recipes) >= inputs + 10):\n",
        "      out = recipes[inputs:inputs + 10]\n",
        "      return ''.join(map(str, out))\n",
        "    \n",
        "    # Stop (part 2)\n",
        "    if not part1:\n",
        "      if q > 0:\n",
        "        if part2_pattern == recipes[-len_pattern - 1:-1]:\n",
        "          return len(recipes) - 1 - len_pattern      \n",
        "      if part2_pattern == recipes[-len_pattern:]:\n",
        "        return len(recipes) - len_pattern"
      ],
      "execution_count": 0,
      "outputs": []
    },
    {
      "metadata": {
        "id": "axCn6FNaUql6",
        "colab_type": "code",
        "colab": {
          "base_uri": "https://localhost:8080/",
          "height": 85
        },
        "outputId": "d8af0ef0-962a-40b3-84a9-8220290470e2"
      },
      "cell_type": "code",
      "source": [
        "%%time\n",
        "print('Part 1 solution:', cacao_machine(909441, part1=True, verbose=False))\n",
        "print('Part 2 solution:', cacao_machine(909441, part1=False, verbose=False))"
      ],
      "execution_count": 2,
      "outputs": [
        {
          "output_type": "stream",
          "text": [
            "Part 1 solution: 2615161213\n",
            "Part 2 solution: 20403320\n",
            "CPU times: user 23.8 s, sys: 458 ms, total: 24.3 s\n",
            "Wall time: 24.3 s\n"
          ],
          "name": "stdout"
        }
      ]
    },
    {
      "metadata": {
        "id": "EKzVobQ5zf9J",
        "colab_type": "code",
        "outputId": "d0baa787-3934-4776-a478-0896ca43ecba",
        "colab": {
          "base_uri": "https://localhost:8080/",
          "height": 306
        },
        "cellView": "form"
      },
      "cell_type": "code",
      "source": [
        "#@title Visualize the execution on a toy example\n",
        "print('\\nPart 1 solution:', cacao_machine(9, part1=True, verbose=True))"
      ],
      "execution_count": 3,
      "outputs": [
        {
          "output_type": "stream",
          "text": [
            "Step 00000 [3, 7]\n",
            "Step 00002 [3, 7, 1, 0]\n",
            "Step 00003 [3, 7, 1, 0, 1, 0]\n",
            "Step 00004 [3, 7, 1, 0, 1, 0, 1]\n",
            "Step 00005 [3, 7, 1, 0, 1, 0, 1, 2]\n",
            "Step 00006 [3, 7, 1, 0, 1, 0, 1, 2, 4]\n",
            "Step 00007 [3, 7, 1, 0, 1, 0, 1, 2, 4, 5]\n",
            "Step 00008 [3, 7, 1, 0, 1, 0, 1, 2, 4, 5, 1]\n",
            "Step 00009 [3, 7, 1, 0, 1, 0, 1, 2, 4, 5, 1, 5]\n",
            "Step 00010 [3, 7, 1, 0, 1, 0, 1, 2, 4, 5, 1, 5, 8]\n",
            "Step 00011 [3, 7, 1, 0, 1, 0, 1, 2, 4, 5, 1, 5, 8, 9]\n",
            "Step 00012 [3, 7, 1, 0, 1, 0, 1, 2, 4, 5, 1, 5, 8, 9, 1, 6]\n",
            "Step 00013 [3, 7, 1, 0, 1, 0, 1, 2, 4, 5, 1, 5, 8, 9, 1, 6, 7]\n",
            "Step 00014 [3, 7, 1, 0, 1, 0, 1, 2, 4, 5, 1, 5, 8, 9, 1, 6, 7, 7]\n",
            "Step 00015 [3, 7, 1, 0, 1, 0, 1, 2, 4, 5, 1, 5, 8, 9, 1, 6, 7, 7, 9]\n",
            "\n",
            "Part 1 solution: 5158916779\n"
          ],
          "name": "stdout"
        }
      ]
    }
  ]
}